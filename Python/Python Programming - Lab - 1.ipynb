{
 "cells": [
  {
   "cell_type": "markdown",
   "metadata": {},
   "source": [
    "<a href='https://www.darshan.ac.in/'> <img src='https://www.darshan.ac.in/Content/media/DU_Logo.svg' width=\"250\" height=\"300\"/></a>\n",
    "<pre>\n",
    "<center><b><h1>Python Programming - 2101CS405</b></center>\n",
    "<center><b><h1>Lab - 1</b></center>    \n",
    "<pre>"
   ]
  },
  {
   "cell_type": "markdown",
   "metadata": {},
   "source": [
    "### 01) WAP to print “Hello World”"
   ]
  },
  {
   "cell_type": "code",
   "execution_count": 2,
   "metadata": {},
   "outputs": [
    {
     "name": "stdout",
     "output_type": "stream",
     "text": [
      "Hello World\n"
     ]
    }
   ],
   "source": [
    "print(\"Hello World\")"
   ]
  },
  {
   "cell_type": "markdown",
   "metadata": {},
   "source": [
    "### 02) WAP to print your address i) using single print ii) using multiple print"
   ]
  },
  {
   "cell_type": "code",
   "execution_count": 6,
   "metadata": {},
   "outputs": [
    {
     "name": "stdout",
     "output_type": "stream",
     "text": [
      "AbC\n",
      "abc\n"
     ]
    }
   ],
   "source": [
    "print(\"AbC\")\n",
    "print(\"abc\")"
   ]
  },
  {
   "cell_type": "markdown",
   "metadata": {},
   "source": [
    "### 03) WAP to print addition of 2 numbers (without input function)"
   ]
  },
  {
   "cell_type": "code",
   "execution_count": 9,
   "metadata": {},
   "outputs": [
    {
     "name": "stdout",
     "output_type": "stream",
     "text": [
      "3\n"
     ]
    }
   ],
   "source": [
    "a=1;b=2\n",
    "print(a+b)"
   ]
  },
  {
   "cell_type": "markdown",
   "metadata": {},
   "source": [
    "### 04) WAP to calculate and print average of 2 numbers (without input function)"
   ]
  },
  {
   "cell_type": "code",
   "execution_count": 13,
   "metadata": {},
   "outputs": [
    {
     "name": "stdout",
     "output_type": "stream",
     "text": [
      "2.0\n"
     ]
    }
   ],
   "source": [
    "print((2+2)/2)"
   ]
  },
  {
   "cell_type": "markdown",
   "metadata": {},
   "source": [
    "### 05) WAP to add two number entered by user."
   ]
  },
  {
   "cell_type": "code",
   "execution_count": 14,
   "metadata": {},
   "outputs": [
    {
     "name": "stdout",
     "output_type": "stream",
     "text": [
      "enter any number5\n",
      "enter any number6\n",
      "11\n"
     ]
    }
   ],
   "source": [
    "a=int(input(\"enter any number\"));\n",
    "b=int(input(\"enter any number\"));\n",
    "print(a+b)"
   ]
  },
  {
   "cell_type": "markdown",
   "metadata": {},
   "source": [
    "### 06) WAP to calculate simple interest."
   ]
  },
  {
   "cell_type": "code",
   "execution_count": 16,
   "metadata": {},
   "outputs": [
    {
     "name": "stdout",
     "output_type": "stream",
     "text": [
      "enter principle89\n",
      "enter rate78\n",
      "enter number of yrs98\n",
      "6803.16\n"
     ]
    }
   ],
   "source": [
    "p=int(input(\"enter principle\"));\n",
    "r=int(input(\"enter rate\"));\n",
    "n=int(input(\"enter number of yrs\"));\n",
    "print((p*r*n)/100)"
   ]
  },
  {
   "cell_type": "markdown",
   "metadata": {},
   "source": [
    "### 07) WAP Calculate Area and Circumfrence of Circle"
   ]
  },
  {
   "cell_type": "code",
   "execution_count": 19,
   "metadata": {},
   "outputs": [
    {
     "name": "stdout",
     "output_type": "stream",
     "text": [
      "enter radius1\n",
      "3.14 is area of circle\n",
      "6.28 is circumference of circle\n"
     ]
    }
   ],
   "source": [
    "r=int(input(\"enter radius\"));\n",
    "print(3.14*r*r,\"is area of circle\");\n",
    "print(3.14*r*2,\"is circumference of circle\")"
   ]
  },
  {
   "cell_type": "markdown",
   "metadata": {},
   "source": [
    "### 08) WAP to print Multiplication table of given number without using loops."
   ]
  },
  {
   "cell_type": "code",
   "execution_count": 10,
   "metadata": {},
   "outputs": [
    {
     "name": "stdout",
     "output_type": "stream",
     "text": [
      "enter any number4\n",
      "4 = 4 *1\n",
      "8 = 4 *2\n",
      "12 = 4 *3\n",
      "16 = 4 *4\n",
      "20 = 4 *5\n",
      "24 = 4 *6\n",
      "28 = 4 *7\n",
      "32 = 4 *8\n",
      "36 = 4 *9\n",
      "40 = 4 *10\n"
     ]
    }
   ],
   "source": [
    "r=int(input(\"enter any number\"));\n",
    "print(1*r,\"=\",r,\"*1\");\n",
    "print(2*r,\"=\",r,\"*2\");\n",
    "print(3*r,\"=\",r,\"*3\");\n",
    "print(4*r,\"=\",r,\"*4\");\n",
    "print(5*r,\"=\",r,\"*5\");\n",
    "print(6*r,\"=\",r,\"*6\");\n",
    "print(7*r,\"=\",r,\"*7\");\n",
    "print(8*r,\"=\",r,\"*8\");\n",
    "print(9*r,\"=\",r,\"*9\");\n",
    "print(10*r,\"=\",r,\"*10\");"
   ]
  },
  {
   "cell_type": "markdown",
   "metadata": {},
   "source": [
    "### 09) WAP to calculate Area of Triangle (hint: a = h * b * 0.5)"
   ]
  },
  {
   "cell_type": "code",
   "execution_count": 6,
   "metadata": {},
   "outputs": [
    {
     "name": "stdout",
     "output_type": "stream",
     "text": [
      "enter height5\n",
      "enter breath5\n",
      "12\n"
     ]
    }
   ],
   "source": [
    "h=int(input(\"enter height\"));\n",
    "b=int(input(\"enter breath\"));\n",
    "a=int(h*b*0.5)\n",
    "print(a)"
   ]
  },
  {
   "cell_type": "markdown",
   "metadata": {},
   "source": [
    "### 10) WAP to convert degree to Fahrenheit and vice versa."
   ]
  },
  {
   "cell_type": "code",
   "execution_count": 9,
   "metadata": {},
   "outputs": [
    {
     "name": "stdout",
     "output_type": "stream",
     "text": [
      "enter celcius degree5\n",
      "enter Fahrenheit5\n",
      "41 fahrenit\n",
      "-15 celius\n"
     ]
    }
   ],
   "source": [
    "C=int(input(\"enter celcius degree\"));\n",
    "F=int(input(\"enter Fahrenheit\"));\n",
    "f = int((9/5*C) + 32);\n",
    "print(f,\"fahrenit\");\n",
    "c = int((F-32)*5/9);\n",
    "print(c,\"celius\")"
   ]
  },
  {
   "cell_type": "markdown",
   "metadata": {},
   "source": [
    "### 11) WAP to calculate total marks and Percentage."
   ]
  },
  {
   "cell_type": "code",
   "execution_count": 2,
   "metadata": {},
   "outputs": [
    {
     "name": "stdout",
     "output_type": "stream",
     "text": [
      "enter marks of sub1=25\n",
      "enter marks of sub2=15\n",
      "enter marks of sub3=45\n",
      "85 total marks\n",
      "28.333333333333332 %\n"
     ]
    }
   ],
   "source": [
    "C=int(input(\"enter marks of sub1=\"));\n",
    "J=int(input(\"enter marks of sub2=\"));\n",
    "P=int(input(\"enter marks of sub3=\"));\n",
    "Total=C+P+J\n",
    "print(Total,\"total marks\");\n",
    "print((Total/300)*100,\"%\")"
   ]
  },
  {
   "cell_type": "markdown",
   "metadata": {},
   "source": [
    "### 12) Compute distance between two points taking input from the user (Pythagorean Theorem)."
   ]
  },
  {
   "cell_type": "code",
   "execution_count": 10,
   "metadata": {
    "scrolled": true
   },
   "outputs": [
    {
     "name": "stdout",
     "output_type": "stream",
     "text": [
      "enter x1= 2\n",
      "enter  y1=2\n",
      "enter x2= 1\n",
      "enter y2= 1\n",
      "1.4142135623730951\n"
     ]
    }
   ],
   "source": [
    "x1=float(input(\"enter x1= \"));\n",
    "y1=float(input(\"enter  y1=\"));\n",
    "x2=float(input(\"enter x2= \"));\n",
    "y2=float(input(\"enter y2= \"));\n",
    "a=((x1-x2)*(x1-x2));\n",
    "b=(float(y1-y2)*(y1-y2));\n",
    "c=(float(a+b));\n",
    "d=(float(c**0.5));\n",
    "print(d);"
   ]
  },
  {
   "cell_type": "markdown",
   "metadata": {},
   "source": [
    "### 13)WAP to convert seconds into hours, minutes & seconds and print in HH:MM:SS \n",
    "[e.g. 10000 seconds mean 2:46:40 (2 Hours, 46 Minutes, 40Seconds)]"
   ]
  },
  {
   "cell_type": "code",
   "execution_count": 7,
   "metadata": {},
   "outputs": [
    {
     "name": "stdout",
     "output_type": "stream",
     "text": [
      "enter number: 10000\n",
      "2:46:40\n"
     ]
    }
   ],
   "source": [
    "seconds=int(input(\"enter number: \"))\n",
    "seconds = seconds % (24 * 3600)\n",
    "hour = seconds // 3600\n",
    "seconds %= 3600\n",
    "minutes = seconds // 60\n",
    "seconds %= 60\n",
    "\n",
    "print(\"%d:%02d:%02d\" % (hour, minutes, seconds))"
   ]
  },
  {
   "cell_type": "markdown",
   "metadata": {},
   "source": [
    "### 14) WAP to enter distance into kilometer and convert it into meter, feet,inches, and centimeter"
   ]
  },
  {
   "cell_type": "code",
   "execution_count": 5,
   "metadata": {},
   "outputs": [
    {
     "name": "stdout",
     "output_type": "stream",
     "text": [
      "enter distence in km=50\n",
      "50000 meter\n",
      "1968505.0 inch\n",
      "164042.0 feet\n",
      "5000000 centimeter\n"
     ]
    }
   ],
   "source": [
    "km = int(input(\"enter distence in km=\"));\n",
    "meter =km *1000\n",
    "inch=km*39370.1\n",
    "feet=km*3280.84\n",
    "centimeter=km*100000\n",
    "print(meter,\"meter\");\n",
    "print(inch,\"inch\");\n",
    "print(feet,\"feet\");\n",
    "print(centimeter,\"centimeter\");"
   ]
  },
  {
   "cell_type": "code",
   "execution_count": null,
   "metadata": {},
   "outputs": [],
   "source": []
  }
 ],
 "metadata": {
  "kernelspec": {
   "display_name": "Python 3 (ipykernel)",
   "language": "python",
   "name": "python3"
  },
  "language_info": {
   "codemirror_mode": {
    "name": "ipython",
    "version": 3
   },
   "file_extension": ".py",
   "mimetype": "text/x-python",
   "name": "python",
   "nbconvert_exporter": "python",
   "pygments_lexer": "ipython3",
   "version": "3.11.5"
  },
  "vscode": {
   "interpreter": {
    "hash": "31f2aee4e71d21fbe5cf8b01ff0e069b9275f58929596ceb00d14d90e3e16cd6"
   }
  }
 },
 "nbformat": 4,
 "nbformat_minor": 4
}
