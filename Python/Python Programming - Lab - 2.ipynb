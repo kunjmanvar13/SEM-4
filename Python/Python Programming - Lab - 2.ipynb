{
 "cells": [
  {
   "cell_type": "markdown",
   "metadata": {},
   "source": [
    "\n",
    "<a href='https://www.darshan.ac.in/'> <img src='https://www.darshan.ac.in/Content/media/DU_Logo.svg' width=\"250\" height=\"300\"/></a>\n",
    "<pre>\n",
    "<center><b><h1>Python Programming - 2101CS405</b></center>\n",
    "<center><b><h1>Lab - 2</b></center>    \n",
    "<pre>"
   ]
  },
  {
   "cell_type": "markdown",
   "metadata": {},
   "source": [
    "# if..else.."
   ]
  },
  {
   "cell_type": "markdown",
   "metadata": {},
   "source": [
    "### 01) WAP to check whether the given number is positive or negative."
   ]
  },
  {
   "cell_type": "code",
   "execution_count": 3,
   "metadata": {},
   "outputs": [
    {
     "name": "stdout",
     "output_type": "stream",
     "text": [
      "enter number45\n",
      "c is positive\n"
     ]
    }
   ],
   "source": [
    "c=int(input(\"enter number\"));\n",
    "if(c<0):\n",
    "    print(\"c is negative\")\n",
    "else:\n",
    "     print(\"c is positive\")"
   ]
  },
  {
   "cell_type": "markdown",
   "metadata": {},
   "source": [
    "### 02) WAP to check whether the given number is odd or even"
   ]
  },
  {
   "cell_type": "code",
   "execution_count": 4,
   "metadata": {},
   "outputs": [
    {
     "name": "stdout",
     "output_type": "stream",
     "text": [
      "enter number45\n",
      "c is odd\n"
     ]
    }
   ],
   "source": [
    "d=int(input(\"enter number\"));\n",
    "if(d%2==0):\n",
    "    print(\"c is even\")\n",
    "else:\n",
    "     print(\"c is odd\")"
   ]
  },
  {
   "cell_type": "markdown",
   "metadata": {},
   "source": [
    "### 03) WAP to find out largest number from given two numbers using simple if and ternary operator."
   ]
  },
  {
   "cell_type": "code",
   "execution_count": 6,
   "metadata": {},
   "outputs": [
    {
     "name": "stdout",
     "output_type": "stream",
     "text": [
      "enter number45\n",
      "enter number78\n",
      "The Largest Number Is : 78\n"
     ]
    }
   ],
   "source": [
    "First=int(input(\"enter number\"));\n",
    "Second=int(input(\"enter number\"));\n",
    "print(\"The Largest Number Is:\",First) if(First>Second) else print(\"The Largest Number Is :\",Second)"
   ]
  },
  {
   "cell_type": "markdown",
   "metadata": {},
   "source": [
    "### 04) WAP to find out largest number from given three numbers."
   ]
  },
  {
   "cell_type": "code",
   "execution_count": 5,
   "metadata": {},
   "outputs": [
    {
     "name": "stdout",
     "output_type": "stream",
     "text": [
      "enter number5\n",
      "enter number9\n",
      "enter number7\n",
      "b is largest\n"
     ]
    }
   ],
   "source": [
    "a=int(input(\"enter number\"));\n",
    "b=int(input(\"enter number\"));\n",
    "c=int(input(\"enter number\"));\n",
    "if(a>b and a>c):\n",
    "    print(\"a is largest\")\n",
    "elif(b>a and b>c):\n",
    "    print(\"b is largest\")\n",
    "else:\n",
    "    print(\"c is largest\")"
   ]
  },
  {
   "cell_type": "markdown",
   "metadata": {},
   "source": [
    "### 05) WAP to check whether the given year is leap year or not.\n",
    "[If a year can be divisible by 4 but not divisible by 100 then it is leap year but if it is divisible by 400 then it is leap year]"
   ]
  },
  {
   "cell_type": "code",
   "execution_count": 17,
   "metadata": {},
   "outputs": [
    {
     "name": "stdout",
     "output_type": "stream",
     "text": [
      "enter number3008\n",
      "is leap year\n"
     ]
    }
   ],
   "source": [
    "a=int(input(\"enter number\"));\n",
    "if(a%4==0 and a%100!=0):\n",
    "    print(\"is leap year\")\n",
    "elif(a%400==0):\n",
    "    print(\"leap year\")\n",
    "else:\n",
    "    print(\"not leap yr\")\n",
    "    "
   ]
  },
  {
   "cell_type": "markdown",
   "metadata": {},
   "source": [
    "### 06) WAP in python to display the name of the day according to the number given by the user"
   ]
  },
  {
   "cell_type": "code",
   "execution_count": 19,
   "metadata": {},
   "outputs": [
    {
     "name": "stdout",
     "output_type": "stream",
     "text": [
      "enter number of day8\n",
      "invalid input\n"
     ]
    }
   ],
   "source": [
    "day=int(input(\"enter number of day\"));\n",
    "if(day==1):\n",
    "    print(\"Monday\")\n",
    "elif(day==2):\n",
    "    print(\"Tuesday\")\n",
    "elif(day==3):\n",
    "    print(\"Wednesday\")\n",
    "elif(day==4):\n",
    "    print(\"Thursday\")\n",
    "elif(day==5):\n",
    "    print(\"Friday\")\n",
    "elif(day==6):\n",
    "    print(\"Saturday\")\n",
    "elif(day==7):\n",
    "    print(\"Sunday\")\n",
    "else:\n",
    "    print(\"invalid input\")"
   ]
  },
  {
   "cell_type": "markdown",
   "metadata": {},
   "source": [
    "### 07) WAP to implement simple calculator which performs (add,sub,mul,div) of two no. based on user input."
   ]
  },
  {
   "cell_type": "code",
   "execution_count": 20,
   "metadata": {},
   "outputs": [
    {
     "name": "stdout",
     "output_type": "stream",
     "text": [
      "enter number5\n",
      "enter number4\n",
      "enter 1 for add; 2 for multiply; 3 for sub; 4 for divison1\n",
      "9\n"
     ]
    }
   ],
   "source": [
    "a=int(input(\"enter number\"));\n",
    "b=int(input(\"enter number\"));\n",
    "sign=int(input(\"enter 1 for add; 2 for multiply; 3 for sub; 4 for divison\"));\n",
    "if(sign==1):\n",
    "    print(a+b)\n",
    "elif(sign==2):\n",
    "    print(a*b)\n",
    "elif(sign==3):\n",
    "    print(a-b)\n",
    "elif(sign==4):\n",
    "    print(a/b)\n",
    "else:\n",
    "    print(\"invalid input\")\n",
    "    "
   ]
  },
  {
   "cell_type": "markdown",
   "metadata": {},
   "source": [
    "### 08) WAP to calculate electricity bill based on following criteria. Which takes the unit from the user.\n",
    "a. First 1 to 50 units – Rs. 2.60/unit</br>\n",
    "b. Next 50 to 100 units – Rs. 3.25/unit</br>\n",
    "c. Next 100 to 200 units – Rs. 5.26/unit</br>\n",
    "d. above 200 units – Rs. 8.45/unit"
   ]
  },
  {
   "cell_type": "code",
   "execution_count": null,
   "metadata": {},
   "outputs": [],
   "source": [
    "units=int(input(\"please enter the number of units you consumed in a month :\"))\n",
    "if(units<=50):\n",
    "    payAmount=units*2.60\n",
    "elif(units<=100):\n",
    "    payAmount=(50*2.60)+(units-50)*3.25\n",
    "elif(units<=200):\n",
    "    payAmount=(50*2.60)+(100-50)*3.25+(units-100)*5.26\n",
    "elif(units>200):\n",
    "    payAmount=(50*2.60)+(100-50)*3.25+(200-100)*5.26+(units-200)*8.45\n",
    "\n",
    "Total=payAmount\n",
    "print(\"Total Bill = \",Total)"
   ]
  },
  {
   "cell_type": "markdown",
   "metadata": {},
   "source": [
    "### 01) WAP to read marks of five subjects. Calculate percentage and print class accordingly. \n",
    "Fail below 35 </br>\n",
    "Pass Class between 35 to 45 </br>\n",
    "Second Class</br>\n",
    "between 45 to 60</br>\n",
    "First Class between 60 to 70</br> \n",
    "Distinction if more than 70"
   ]
  },
  {
   "cell_type": "code",
   "execution_count": 26,
   "metadata": {},
   "outputs": [
    {
     "name": "stdout",
     "output_type": "stream",
     "text": [
      "enter marks of sub1=95\n",
      "enter marks of sub2=85\n",
      "enter marks of sub3=65\n",
      "enter marks of sub4=75\n",
      "enter marks of sub5=85\n",
      "405 total marks\n",
      "distinction class\n"
     ]
    }
   ],
   "source": [
    "C=int(input(\"enter marks of sub1=\"));\n",
    "J=int(input(\"enter marks of sub2=\"));\n",
    "P=int(input(\"enter marks of sub3=\"));\n",
    "K=int(input(\"enter marks of sub4=\"));\n",
    "L=int(input(\"enter marks of sub5=\"));\n",
    "Total=C+P+J+K+L\n",
    "print(Total,\"total marks\");\n",
    "per=((Total/500)*100);\n",
    "if(per<=35):\n",
    "    print(\"fail\")\n",
    "elif(per>=45 and per<=60):\n",
    "    print(\"second class\")\n",
    "elif(per>60 and per<=70):\n",
    "    print(\"first class\")\n",
    "elif(per>70):\n",
    "    print(\"distinction class\")\n",
    "else:\n",
    "    print(\"invalid\")"
   ]
  },
  {
   "cell_type": "markdown",
   "metadata": {},
   "source": [
    "### 02) WAP to find out the Maximum and Minimum number from given 4 numbers."
   ]
  },
  {
   "cell_type": "code",
   "execution_count": 24,
   "metadata": {},
   "outputs": [
    {
     "name": "stdout",
     "output_type": "stream",
     "text": [
      "enter number=45\n",
      "enter number=55\n",
      "enter number=78\n",
      "enter number=98\n",
      "d is largest 98\n",
      "a is smallest 45\n"
     ]
    }
   ],
   "source": [
    "a=int(input(\"enter number=\"));\n",
    "b=int(input(\"enter number=\"));\n",
    "c=int(input(\"enter number=\"));\n",
    "d=int(input(\"enter number=\"));\n",
    "if(a>b and a>c and a>d):\n",
    "    print(\"a is largest\",a)\n",
    "elif(b>a and b>c and b>d):\n",
    "    print(\"b is largest\",b)\n",
    "elif(c>a and c>b and c>d):\n",
    "    print(\"c is largest\",c)\n",
    "else:\n",
    "    print(\"d is largest\",d)\n",
    "\n",
    "if(a<b and a<c and a<d):\n",
    "    print(\"a is smallest\",a)\n",
    "elif(b<a and b<c and b<d):\n",
    "    print(\"b is smallest\",b)\n",
    "elif(c<a and c<b and c<d):\n",
    "    print(\"c is smallest\",c)\n",
    "else:\n",
    "    print(\"d is smallest\",d)"
   ]
  },
  {
   "cell_type": "markdown",
   "metadata": {},
   "source": [
    "### 03) WAP to input an integer number and check the last digit of number is even or odd."
   ]
  },
  {
   "cell_type": "code",
   "execution_count": 28,
   "metadata": {},
   "outputs": [
    {
     "name": "stdout",
     "output_type": "stream",
     "text": [
      "Enter :7589655\n",
      "Odd\n"
     ]
    }
   ],
   "source": [
    "num = input(\"Enter :\")\n",
    "last = num[-1]\n",
    "final = int(last)\n",
    "if(final%2==0):\n",
    "    print(\"Even\")\n",
    "else:\n",
    "    print(\"Odd\")"
   ]
  },
  {
   "cell_type": "markdown",
   "metadata": {},
   "source": [
    "### 04) WAP to determine the roots of the equation ax2+bx+c=0."
   ]
  },
  {
   "cell_type": "code",
   "execution_count": 29,
   "metadata": {},
   "outputs": [
    {
     "name": "stdout",
     "output_type": "stream",
     "text": [
      "Enter Number:2\n",
      "Enter Number:2\n",
      "Enter Number:1\n",
      "(-2+0.5j)\n",
      "(-2-0.5j)\n",
      "Imagenary\n"
     ]
    }
   ],
   "source": [
    "a=int(input(\"Enter Number:\"))\n",
    "b=int(input(\"Enter Number:\"))\n",
    "c=int(input(\"Enter Number:\"))\n",
    "e=4\n",
    "d=(b*b)-e*a*c\n",
    "k=(d**0.5)\n",
    "x=(-b+k/(2*a))\n",
    "X=(-b-k/(2*a))\n",
    "print(x)\n",
    "print(X)\n",
    "if(d>0):\n",
    "    print(\"Real Root\")\n",
    "elif(d==0):\n",
    "    print(\"Same Root\")\n",
    "elif(d<0):\n",
    "    print(\"Imagenary\")"
   ]
  },
  {
   "cell_type": "code",
   "execution_count": null,
   "metadata": {},
   "outputs": [],
   "source": []
  }
 ],
 "metadata": {
  "kernelspec": {
   "display_name": "Python 3 (ipykernel)",
   "language": "python",
   "name": "python3"
  },
  "language_info": {
   "codemirror_mode": {
    "name": "ipython",
    "version": 3
   },
   "file_extension": ".py",
   "mimetype": "text/x-python",
   "name": "python",
   "nbconvert_exporter": "python",
   "pygments_lexer": "ipython3",
   "version": "3.11.5"
  }
 },
 "nbformat": 4,
 "nbformat_minor": 4
}
